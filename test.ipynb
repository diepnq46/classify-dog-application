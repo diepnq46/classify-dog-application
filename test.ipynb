{
 "cells": [
  {
   "cell_type": "code",
   "execution_count": 1,
   "id": "ae82655d-c00c-49b2-b816-de619a5ac9cd",
   "metadata": {},
   "outputs": [],
   "source": [
    "from tensorflow.keras.preprocessing.image import ImageDataGenerator\n",
    "from tensorflow.keras.models import load_model"
   ]
  },
  {
   "cell_type": "code",
   "execution_count": 2,
   "id": "23b9b1d5-0b52-4cc1-acaa-c70ebb4e77bb",
   "metadata": {},
   "outputs": [],
   "source": [
    "model = load_model('baseline_model.keras')"
   ]
  },
  {
   "cell_type": "code",
   "execution_count": 3,
   "id": "5e60c964-3d6b-41bb-a79d-386f433882dc",
   "metadata": {},
   "outputs": [],
   "source": [
    "test_datagen = ImageDataGenerator(rescale=1./255)"
   ]
  },
  {
   "cell_type": "code",
   "execution_count": 6,
   "id": "7d055bfd-d6c7-48f8-b858-ad3766cdb3f7",
   "metadata": {},
   "outputs": [
    {
     "name": "stdout",
     "output_type": "stream",
     "text": [
      "Found 2058 images belonging to 120 classes.\n"
     ]
    }
   ],
   "source": [
    "test_generator = test_datagen.flow_from_directory(\n",
    "    './data/test/',         \n",
    "    target_size=(224, 224),       \n",
    "    batch_size=32,\n",
    "    class_mode='categorical',          \n",
    "    shuffle=False                 \n",
    ")"
   ]
  },
  {
   "cell_type": "code",
   "execution_count": 7,
   "id": "edf8cd83-67c8-4d83-a35f-c02e2538bbcc",
   "metadata": {},
   "outputs": [
    {
     "name": "stderr",
     "output_type": "stream",
     "text": [
      "D:\\Desktop\\hocmay\\env\\Lib\\site-packages\\keras\\src\\trainers\\data_adapters\\py_dataset_adapter.py:122: UserWarning: Your `PyDataset` class should call `super().__init__(**kwargs)` in its constructor. `**kwargs` can include `workers`, `use_multiprocessing`, `max_queue_size`. Do not pass these arguments to `fit()`, as they will be ignored.\n",
      "  self._warn_if_super_not_called()\n"
     ]
    },
    {
     "name": "stdout",
     "output_type": "stream",
     "text": [
      "\u001b[1m64/64\u001b[0m \u001b[32m━━━━━━━━━━━━━━━━━━━━\u001b[0m\u001b[37m\u001b[0m \u001b[1m50s\u001b[0m 712ms/step - accuracy: 0.7892 - loss: 0.7478\n"
     ]
    }
   ],
   "source": [
    "loss, accuracy = model.evaluate(test_generator, steps=test_generator.samples // test_generator.batch_size)"
   ]
  },
  {
   "cell_type": "code",
   "execution_count": 8,
   "id": "c7d55b38-afbd-4d54-9384-c5a6dde445e4",
   "metadata": {},
   "outputs": [
    {
     "name": "stdout",
     "output_type": "stream",
     "text": [
      "\u001b[1m65/65\u001b[0m \u001b[32m━━━━━━━━━━━━━━━━━━━━\u001b[0m\u001b[37m\u001b[0m \u001b[1m42s\u001b[0m 597ms/step\n",
      "                                          precision    recall  f1-score   support\n",
      "\n",
      "                     n02085620-Chihuahua       0.75      0.80      0.77        15\n",
      "              n02085782-Japanese_spaniel       0.90      1.00      0.95        18\n",
      "                   n02085936-Maltese_dog       0.80      0.80      0.80        25\n",
      "                      n02086079-Pekinese       1.00      0.60      0.75        15\n",
      "                      n02086240-Shih-Tzu       0.75      0.57      0.65        21\n",
      "              n02086646-Blenheim_spaniel       0.81      0.89      0.85        19\n",
      "                      n02086910-papillon       0.90      0.90      0.90        20\n",
      "                   n02087046-toy_terrier       0.84      0.94      0.89        17\n",
      "           n02087394-Rhodesian_ridgeback       0.56      0.53      0.55        17\n",
      "                  n02088094-Afghan_hound       0.96      0.96      0.96        24\n",
      "                        n02088238-basset       0.67      0.82      0.74        17\n",
      "                        n02088364-beagle       0.55      0.60      0.57        20\n",
      "                    n02088466-bloodhound       0.89      0.89      0.89        19\n",
      "                      n02088632-bluetick       0.75      0.71      0.73        17\n",
      "       n02089078-black-and-tan_coonhound       0.76      1.00      0.86        16\n",
      "                  n02089867-Walker_hound       0.73      0.73      0.73        15\n",
      "              n02089973-English_foxhound       1.00      0.56      0.72        16\n",
      "                       n02090379-redbone       0.64      0.60      0.62        15\n",
      "                        n02090622-borzoi       0.93      0.93      0.93        15\n",
      "               n02090721-Irish_wolfhound       0.88      0.68      0.77        22\n",
      "             n02091032-Italian_greyhound       0.64      0.78      0.70        18\n",
      "                       n02091134-whippet       0.71      0.53      0.61        19\n",
      "                  n02091244-Ibizan_hound       0.93      0.74      0.82        19\n",
      "            n02091467-Norwegian_elkhound       0.94      0.85      0.89        20\n",
      "                    n02091635-otterhound       0.91      0.67      0.77        15\n",
      "                        n02091831-Saluki       0.70      0.80      0.74        20\n",
      "            n02092002-Scottish_deerhound       0.77      0.87      0.82        23\n",
      "                    n02092339-Weimaraner       0.94      1.00      0.97        16\n",
      "     n02093256-Staffordshire_bullterrier       0.53      0.67      0.59        15\n",
      "n02093428-American_Staffordshire_terrier       0.69      0.56      0.62        16\n",
      "            n02093647-Bedlington_terrier       0.94      0.94      0.94        18\n",
      "                n02093754-Border_terrier       1.00      1.00      1.00        17\n",
      "            n02093859-Kerry_blue_terrier       0.94      0.89      0.91        18\n",
      "                 n02093991-Irish_terrier       0.61      0.82      0.70        17\n",
      "               n02094114-Norfolk_terrier       0.65      0.65      0.65        17\n",
      "               n02094258-Norwich_terrier       0.89      0.89      0.89        19\n",
      "             n02094433-Yorkshire_terrier       0.81      0.81      0.81        16\n",
      "       n02095314-wire-haired_fox_terrier       0.75      0.94      0.83        16\n",
      "              n02095570-Lakeland_terrier       0.62      0.65      0.63        20\n",
      "              n02095889-Sealyham_terrier       0.90      0.95      0.93        20\n",
      "                      n02096051-Airedale       0.75      0.60      0.67        20\n",
      "                         n02096177-cairn       0.83      0.75      0.79        20\n",
      "            n02096294-Australian_terrier       0.94      0.75      0.83        20\n",
      "                n02096437-Dandie_Dinmont       0.82      0.78      0.80        18\n",
      "                   n02096585-Boston_bull       0.89      0.94      0.92        18\n",
      "           n02097047-miniature_schnauzer       0.59      0.67      0.62        15\n",
      "               n02097130-giant_schnauzer       0.86      0.75      0.80        16\n",
      "            n02097209-standard_schnauzer       0.60      0.40      0.48        15\n",
      "                n02097298-Scotch_terrier       0.93      0.88      0.90        16\n",
      "               n02097474-Tibetan_terrier       0.74      0.95      0.83        21\n",
      "                 n02097658-silky_terrier       0.75      0.83      0.79        18\n",
      "   n02098105-soft-coated_wheaten_terrier       0.71      0.75      0.73        16\n",
      "   n02098286-West_Highland_white_terrier       0.80      0.94      0.86        17\n",
      "                         n02098413-Lhasa       0.59      0.68      0.63        19\n",
      "         n02099267-flat-coated_retriever       0.75      0.60      0.67        15\n",
      "        n02099429-curly-coated_retriever       0.87      0.87      0.87        15\n",
      "              n02099601-golden_retriever       0.76      0.87      0.81        15\n",
      "            n02099712-Labrador_retriever       0.67      0.82      0.74        17\n",
      "      n02099849-Chesapeake_Bay_retriever       0.67      0.71      0.69        17\n",
      "   n02100236-German_short-haired_pointer       0.85      0.73      0.79        15\n",
      "                        n02100583-vizsla       0.62      0.67      0.65        15\n",
      "                n02100735-English_setter       0.93      0.81      0.87        16\n",
      "                  n02100877-Irish_setter       1.00      0.94      0.97        16\n",
      "                 n02101006-Gordon_setter       0.93      0.87      0.90        15\n",
      "              n02101388-Brittany_spaniel       0.72      0.87      0.79        15\n",
      "                       n02101556-clumber       0.88      1.00      0.94        15\n",
      "              n02102040-English_springer       0.70      1.00      0.82        16\n",
      "        n02102177-Welsh_springer_spaniel       1.00      0.80      0.89        15\n",
      "                n02102318-cocker_spaniel       0.92      0.75      0.83        16\n",
      "                n02102480-Sussex_spaniel       1.00      0.93      0.97        15\n",
      "           n02102973-Irish_water_spaniel       0.87      0.87      0.87        15\n",
      "                        n02104029-kuvasz       0.67      0.80      0.73        15\n",
      "                    n02104365-schipperke       1.00      0.80      0.89        15\n",
      "                   n02105056-groenendael       0.92      0.73      0.81        15\n",
      "                      n02105162-malinois       1.00      0.60      0.75        15\n",
      "                        n02105251-briard       1.00      0.73      0.85        15\n",
      "                        n02105412-kelpie       0.80      0.80      0.80        15\n",
      "                      n02105505-komondor       1.00      0.93      0.97        15\n",
      "          n02105641-Old_English_sheepdog       0.89      1.00      0.94        17\n",
      "             n02105855-Shetland_sheepdog       0.92      0.75      0.83        16\n",
      "                        n02106030-collie       0.47      0.53      0.50        15\n",
      "                 n02106166-Border_collie       0.67      0.67      0.67        15\n",
      "          n02106382-Bouvier_des_Flandres       0.86      0.80      0.83        15\n",
      "                    n02106550-Rottweiler       0.75      0.80      0.77        15\n",
      "               n02106662-German_shepherd       0.80      0.80      0.80        15\n",
      "                      n02107142-Doberman       0.76      0.87      0.81        15\n",
      "            n02107312-miniature_pinscher       0.82      0.78      0.80        18\n",
      "    n02107574-Greater_Swiss_Mountain_dog       0.69      0.65      0.67        17\n",
      "          n02107683-Bernese_mountain_dog       0.81      0.77      0.79        22\n",
      "                   n02107908-Appenzeller       0.83      0.67      0.74        15\n",
      "                   n02108000-EntleBucher       0.80      0.80      0.80        20\n",
      "                         n02108089-boxer       0.92      0.80      0.86        15\n",
      "                  n02108422-bull_mastiff       0.82      0.88      0.85        16\n",
      "               n02108551-Tibetan_mastiff       0.92      0.73      0.81        15\n",
      "                n02108915-French_bulldog       0.74      0.88      0.80        16\n",
      "                    n02109047-Great_Dane       0.92      0.75      0.83        16\n",
      "                 n02109525-Saint_Bernard       1.00      0.94      0.97        17\n",
      "                    n02109961-Eskimo_dog       0.36      0.33      0.34        15\n",
      "                      n02110063-malamute       0.63      0.67      0.65        18\n",
      "                n02110185-Siberian_husky       0.59      0.53      0.56        19\n",
      "                 n02110627-affenpinscher       0.79      1.00      0.88        15\n",
      "                       n02110806-basenji       0.76      0.90      0.83        21\n",
      "                           n02110958-pug       0.74      0.85      0.79        20\n",
      "                      n02111129-Leonberg       0.72      1.00      0.84        21\n",
      "                  n02111277-Newfoundland       0.75      0.79      0.77        19\n",
      "                n02111500-Great_Pyrenees       0.86      0.57      0.69        21\n",
      "                       n02111889-Samoyed       0.81      1.00      0.90        22\n",
      "                    n02112018-Pomeranian       0.88      0.95      0.91        22\n",
      "                          n02112137-chow       0.95      0.95      0.95        20\n",
      "                      n02112350-keeshond       1.00      0.88      0.93        16\n",
      "             n02112706-Brabancon_griffon       0.83      1.00      0.91        15\n",
      "                      n02113023-Pembroke       0.82      0.78      0.80        18\n",
      "                      n02113186-Cardigan       0.69      0.69      0.69        16\n",
      "                    n02113624-toy_poodle       0.80      0.53      0.64        15\n",
      "              n02113712-miniature_poodle       0.85      0.69      0.76        16\n",
      "               n02113799-standard_poodle       0.74      0.88      0.80        16\n",
      "              n02113978-Mexican_hairless       0.94      1.00      0.97        16\n",
      "                         n02115641-dingo       0.79      0.94      0.86        16\n",
      "                         n02115913-dhole       0.88      0.93      0.90        15\n",
      "           n02116738-African_hunting_dog       0.94      1.00      0.97        17\n",
      "\n",
      "                                accuracy                           0.80      2058\n",
      "                               macro avg       0.81      0.80      0.79      2058\n",
      "                            weighted avg       0.81      0.80      0.80      2058\n",
      "\n"
     ]
    }
   ],
   "source": [
    "# Dự đoán nhãn cho bộ test\n",
    "predictions = model.predict(test_generator, verbose=1)\n",
    "\n",
    "# Chuyển đổi xác suất dự đoán thành nhãn (chọn lớp có xác suất cao nhất)\n",
    "predicted_classes = np.argmax(predictions, axis=1)\n",
    "\n",
    "# Lấy nhãn thực tế từ test_generator\n",
    "true_classes = test_generator.classes\n",
    "\n",
    "# Tính toán và in ra classification report\n",
    "report = classification_report(true_classes, predicted_classes, target_names=test_generator.class_indices.keys())\n",
    "print(report)"
   ]
  },
  {
   "cell_type": "code",
   "execution_count": null,
   "id": "8ad21408-28dc-49e3-8351-8482fae2fa6b",
   "metadata": {},
   "outputs": [],
   "source": []
  }
 ],
 "metadata": {
  "kernelspec": {
   "display_name": "Python 3 (ipykernel)",
   "language": "python",
   "name": "python3"
  },
  "language_info": {
   "codemirror_mode": {
    "name": "ipython",
    "version": 3
   },
   "file_extension": ".py",
   "mimetype": "text/x-python",
   "name": "python",
   "nbconvert_exporter": "python",
   "pygments_lexer": "ipython3",
   "version": "3.12.5"
  }
 },
 "nbformat": 4,
 "nbformat_minor": 5
}
